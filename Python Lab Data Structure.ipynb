{
 "cells": [
  {
   "cell_type": "code",
   "execution_count": null,
   "id": "9cc4527d",
   "metadata": {},
   "outputs": [],
   "source": []
  },
  {
   "cell_type": "code",
   "execution_count": 1,
   "id": "5af46714",
   "metadata": {},
   "outputs": [
    {
     "data": {
      "text/plain": [
       "3"
      ]
     },
     "execution_count": 1,
     "metadata": {},
     "output_type": "execute_result"
    }
   ],
   "source": [
    "1+2"
   ]
  },
  {
   "cell_type": "markdown",
   "id": "f52a064b",
   "metadata": {},
   "source": [
    "Title \n",
    "**Title 2\n",
    "***Title 3"
   ]
  },
  {
   "cell_type": "code",
   "execution_count": 2,
   "id": "ed6f8f70",
   "metadata": {},
   "outputs": [],
   "source": [
    "b = 87"
   ]
  },
  {
   "cell_type": "code",
   "execution_count": 3,
   "id": "cc308d15",
   "metadata": {},
   "outputs": [
    {
     "name": "stdout",
     "output_type": "stream",
     "text": [
      "87\n"
     ]
    }
   ],
   "source": [
    "print(b)"
   ]
  },
  {
   "cell_type": "code",
   "execution_count": 4,
   "id": "694125ac",
   "metadata": {
    "scrolled": true
   },
   "outputs": [
    {
     "name": "stdout",
     "output_type": "stream",
     "text": [
      "Package             Version\n",
      "------------------- -------------------\n",
      "argon2-cffi         20.1.0\n",
      "async-generator     1.10\n",
      "attrs               20.3.0\n",
      "backcall            0.2.0\n",
      "beautifulsoup4      4.9.3\n",
      "bleach              3.3.0\n",
      "brotlipy            0.7.0\n",
      "bs4                 0.0.1\n",
      "certifi             2020.12.5\n",
      "cffi                1.14.5\n",
      "chardet             4.0.0\n",
      "colorama            0.4.4\n",
      "cryptography        3.4.6\n",
      "cycler              0.10.0\n",
      "decorator           4.4.2\n",
      "defusedxml          0.7.1\n",
      "entrypoints         0.3\n",
      "et-xmlfile          1.0.1\n",
      "graphviz            0.16\n",
      "html5lib            1.1\n",
      "idna                2.10\n",
      "importlib-metadata  2.0.0\n",
      "ipykernel           5.3.4\n",
      "ipython             7.21.0\n",
      "ipython-genutils    0.2.0\n",
      "jdcal               1.4.1\n",
      "jedi                0.17.0\n",
      "Jinja2              2.11.3\n",
      "joblib              0.17.0\n",
      "json5               0.9.5\n",
      "jsonschema          3.2.0\n",
      "jupyter-client      6.1.7\n",
      "jupyter-core        4.7.1\n",
      "jupyterlab          2.2.6\n",
      "jupyterlab-pygments 0.1.2\n",
      "jupyterlab-server   1.2.0\n",
      "kiwisolver          1.3.1\n",
      "lxml                4.6.2\n",
      "MarkupSafe          1.1.1\n",
      "matplotlib          3.3.4\n",
      "mistune             0.8.4\n",
      "mkl-fft             1.3.0\n",
      "mkl-random          1.1.1\n",
      "mkl-service         2.3.0\n",
      "nbclient            0.5.3\n",
      "nbconvert           6.0.7\n",
      "nbformat            5.1.2\n",
      "nest-asyncio        1.5.1\n",
      "notebook            6.2.0\n",
      "numpy               1.19.2\n",
      "olefile             0.46\n",
      "openpyxl            3.0.7\n",
      "packaging           20.9\n",
      "pandas              1.2.3\n",
      "pandocfilters       1.4.3\n",
      "parso               0.8.1\n",
      "pickleshare         0.7.5\n",
      "Pillow              8.1.2\n",
      "pip                 21.0.1\n",
      "prometheus-client   0.9.0\n",
      "prompt-toolkit      3.0.8\n",
      "pycparser           2.20\n",
      "pydotplus           2.0.2\n",
      "pyforest            1.0.3\n",
      "Pygments            2.8.1\n",
      "pyOpenSSL           20.0.1\n",
      "pyparsing           2.4.7\n",
      "pyrsistent          0.17.3\n",
      "PySocks             1.7.1\n",
      "python-dateutil     2.8.1\n",
      "pytz                2021.1\n",
      "pywin32             227\n",
      "pywinpty            0.5.7\n",
      "pyzmq               20.0.0\n",
      "requests            2.25.1\n",
      "scikit-learn        0.23.2\n",
      "scipy               1.6.1\n",
      "seaborn             0.11.1\n",
      "Send2Trash          1.5.0\n",
      "setuptools          52.0.0.post20210125\n",
      "six                 1.15.0\n",
      "soupsieve           2.2.1\n",
      "terminado           0.9.2\n",
      "testpath            0.4.4\n",
      "threadpoolctl       2.1.0\n",
      "tornado             6.1\n",
      "traitlets           5.0.5\n",
      "urllib3             1.26.3\n",
      "wcwidth             0.2.5\n",
      "webencodings        0.5.1\n",
      "wheel               0.36.2\n",
      "win-inet-pton       1.1.0\n",
      "wincertstore        0.2\n",
      "xlrd                2.0.1\n",
      "zipp                3.4.0\n"
     ]
    }
   ],
   "source": [
    "! pip list"
   ]
  },
  {
   "cell_type": "markdown",
   "id": "ed73ee7f",
   "metadata": {},
   "source": [
    "Variable"
   ]
  },
  {
   "cell_type": "code",
   "execution_count": 5,
   "id": "8e447ff6",
   "metadata": {},
   "outputs": [],
   "source": [
    "my_number = 120"
   ]
  },
  {
   "cell_type": "code",
   "execution_count": 6,
   "id": "61986f5d",
   "metadata": {},
   "outputs": [
    {
     "data": {
      "text/plain": [
       "int"
      ]
     },
     "execution_count": 6,
     "metadata": {},
     "output_type": "execute_result"
    }
   ],
   "source": [
    "type(4)"
   ]
  },
  {
   "cell_type": "code",
   "execution_count": 7,
   "id": "a26654e4",
   "metadata": {},
   "outputs": [
    {
     "data": {
      "text/plain": [
       "float"
      ]
     },
     "execution_count": 7,
     "metadata": {},
     "output_type": "execute_result"
    }
   ],
   "source": [
    "type(4.8)"
   ]
  },
  {
   "cell_type": "code",
   "execution_count": 8,
   "id": "7ec3c449",
   "metadata": {},
   "outputs": [
    {
     "data": {
      "text/plain": [
       "int"
      ]
     },
     "execution_count": 8,
     "metadata": {},
     "output_type": "execute_result"
    }
   ],
   "source": [
    "type(my_number)"
   ]
  },
  {
   "cell_type": "code",
   "execution_count": 9,
   "id": "d07aef38",
   "metadata": {},
   "outputs": [],
   "source": [
    "my_number = 4.8"
   ]
  },
  {
   "cell_type": "code",
   "execution_count": 10,
   "id": "d1b4d0c8",
   "metadata": {},
   "outputs": [
    {
     "data": {
      "text/plain": [
       "float"
      ]
     },
     "execution_count": 10,
     "metadata": {},
     "output_type": "execute_result"
    }
   ],
   "source": [
    "type(my_number)"
   ]
  },
  {
   "cell_type": "code",
   "execution_count": 11,
   "id": "a25b448e",
   "metadata": {},
   "outputs": [
    {
     "data": {
      "text/plain": [
       "9.8"
      ]
     },
     "execution_count": 11,
     "metadata": {},
     "output_type": "execute_result"
    }
   ],
   "source": [
    "5+ my_number"
   ]
  },
  {
   "cell_type": "code",
   "execution_count": 12,
   "id": "9efa48d3",
   "metadata": {},
   "outputs": [],
   "source": [
    "Sum_number = 5+ my_number"
   ]
  },
  {
   "cell_type": "code",
   "execution_count": 13,
   "id": "ebcec216",
   "metadata": {},
   "outputs": [],
   "source": [
    "name = \"Wen\""
   ]
  },
  {
   "cell_type": "code",
   "execution_count": 14,
   "id": "db867727",
   "metadata": {},
   "outputs": [
    {
     "name": "stdout",
     "output_type": "stream",
     "text": [
      "Wen\n"
     ]
    }
   ],
   "source": [
    "print(name)"
   ]
  },
  {
   "cell_type": "code",
   "execution_count": 15,
   "id": "bfa92f2c",
   "metadata": {},
   "outputs": [
    {
     "data": {
      "text/plain": [
       "str"
      ]
     },
     "execution_count": 15,
     "metadata": {},
     "output_type": "execute_result"
    }
   ],
   "source": [
    "type(name)"
   ]
  },
  {
   "cell_type": "markdown",
   "id": "40c1d575",
   "metadata": {},
   "source": [
    "List"
   ]
  },
  {
   "cell_type": "code",
   "execution_count": 16,
   "id": "fac4cad3",
   "metadata": {},
   "outputs": [],
   "source": [
    "l = list()"
   ]
  },
  {
   "cell_type": "code",
   "execution_count": 17,
   "id": "b7904006",
   "metadata": {},
   "outputs": [
    {
     "data": {
      "text/plain": [
       "[]"
      ]
     },
     "execution_count": 17,
     "metadata": {},
     "output_type": "execute_result"
    }
   ],
   "source": [
    "l"
   ]
  },
  {
   "cell_type": "code",
   "execution_count": 18,
   "id": "db1d7781",
   "metadata": {},
   "outputs": [
    {
     "data": {
      "text/plain": [
       "list"
      ]
     },
     "execution_count": 18,
     "metadata": {},
     "output_type": "execute_result"
    }
   ],
   "source": [
    "type(l)"
   ]
  },
  {
   "cell_type": "code",
   "execution_count": 19,
   "id": "5e3c1cca",
   "metadata": {},
   "outputs": [],
   "source": [
    "l2 = []"
   ]
  },
  {
   "cell_type": "code",
   "execution_count": 20,
   "id": "f2df4ba2",
   "metadata": {},
   "outputs": [
    {
     "data": {
      "text/plain": [
       "[]"
      ]
     },
     "execution_count": 20,
     "metadata": {},
     "output_type": "execute_result"
    }
   ],
   "source": [
    "l2"
   ]
  },
  {
   "cell_type": "code",
   "execution_count": 21,
   "id": "19019e0b",
   "metadata": {},
   "outputs": [],
   "source": [
    "empty_list = list()"
   ]
  },
  {
   "cell_type": "code",
   "execution_count": 22,
   "id": "2c519af7",
   "metadata": {},
   "outputs": [
    {
     "data": {
      "text/plain": [
       "[]"
      ]
     },
     "execution_count": 22,
     "metadata": {},
     "output_type": "execute_result"
    }
   ],
   "source": [
    "empty_list"
   ]
  },
  {
   "cell_type": "code",
   "execution_count": 23,
   "id": "d7a54466",
   "metadata": {},
   "outputs": [],
   "source": [
    "l = [12,13,14,15]"
   ]
  },
  {
   "cell_type": "code",
   "execution_count": 24,
   "id": "0361a50b",
   "metadata": {},
   "outputs": [
    {
     "name": "stdout",
     "output_type": "stream",
     "text": [
      "[12, 13, 14, 15]\n"
     ]
    }
   ],
   "source": [
    "print(l)"
   ]
  },
  {
   "cell_type": "code",
   "execution_count": 25,
   "id": "b851f0a6",
   "metadata": {},
   "outputs": [
    {
     "data": {
      "text/plain": [
       "4"
      ]
     },
     "execution_count": 25,
     "metadata": {},
     "output_type": "execute_result"
    }
   ],
   "source": [
    "len(l)"
   ]
  },
  {
   "cell_type": "code",
   "execution_count": 26,
   "id": "f49b84d8",
   "metadata": {},
   "outputs": [
    {
     "data": {
      "text/plain": [
       "0"
      ]
     },
     "execution_count": 26,
     "metadata": {},
     "output_type": "execute_result"
    }
   ],
   "source": [
    "len(empty_list)"
   ]
  },
  {
   "cell_type": "code",
   "execution_count": 27,
   "id": "5dff8372",
   "metadata": {},
   "outputs": [
    {
     "data": {
      "text/plain": [
       "12"
      ]
     },
     "execution_count": 27,
     "metadata": {},
     "output_type": "execute_result"
    }
   ],
   "source": [
    "l[0]"
   ]
  },
  {
   "cell_type": "code",
   "execution_count": 28,
   "id": "b52739ca",
   "metadata": {},
   "outputs": [
    {
     "data": {
      "text/plain": [
       "12"
      ]
     },
     "execution_count": 28,
     "metadata": {},
     "output_type": "execute_result"
    }
   ],
   "source": [
    "l[-4]"
   ]
  },
  {
   "cell_type": "code",
   "execution_count": 29,
   "id": "f56796c5",
   "metadata": {},
   "outputs": [
    {
     "data": {
      "text/plain": [
       "25"
      ]
     },
     "execution_count": 29,
     "metadata": {},
     "output_type": "execute_result"
    }
   ],
   "source": [
    "l[0]+l[1]"
   ]
  },
  {
   "cell_type": "code",
   "execution_count": 30,
   "id": "97f39018",
   "metadata": {},
   "outputs": [],
   "source": [
    "l.append(25)"
   ]
  },
  {
   "cell_type": "code",
   "execution_count": 31,
   "id": "b55dc99a",
   "metadata": {},
   "outputs": [
    {
     "data": {
      "text/plain": [
       "[12, 13, 14, 15, 25]"
      ]
     },
     "execution_count": 31,
     "metadata": {},
     "output_type": "execute_result"
    }
   ],
   "source": [
    "l"
   ]
  },
  {
   "cell_type": "code",
   "execution_count": 32,
   "id": "8936ce8b",
   "metadata": {},
   "outputs": [
    {
     "data": {
      "text/plain": [
       "1"
      ]
     },
     "execution_count": 32,
     "metadata": {},
     "output_type": "execute_result"
    }
   ],
   "source": [
    "l.index(13)"
   ]
  },
  {
   "cell_type": "code",
   "execution_count": 33,
   "id": "979bcf1e",
   "metadata": {},
   "outputs": [
    {
     "data": {
      "text/plain": [
       "5"
      ]
     },
     "execution_count": 33,
     "metadata": {},
     "output_type": "execute_result"
    }
   ],
   "source": [
    "len(l)"
   ]
  },
  {
   "cell_type": "code",
   "execution_count": 34,
   "id": "0210204e",
   "metadata": {},
   "outputs": [
    {
     "data": {
      "text/plain": [
       "25"
      ]
     },
     "execution_count": 34,
     "metadata": {},
     "output_type": "execute_result"
    }
   ],
   "source": [
    "l[len(l)-1]"
   ]
  },
  {
   "cell_type": "code",
   "execution_count": 35,
   "id": "0281290f",
   "metadata": {},
   "outputs": [
    {
     "data": {
      "text/plain": [
       "25"
      ]
     },
     "execution_count": 35,
     "metadata": {},
     "output_type": "execute_result"
    }
   ],
   "source": [
    "l[-1]"
   ]
  },
  {
   "cell_type": "code",
   "execution_count": 36,
   "id": "042c645b",
   "metadata": {},
   "outputs": [],
   "source": [
    "l.append(name)"
   ]
  },
  {
   "cell_type": "code",
   "execution_count": 37,
   "id": "9f12a87a",
   "metadata": {},
   "outputs": [
    {
     "data": {
      "text/plain": [
       "[12, 13, 14, 15, 25, 'Wen']"
      ]
     },
     "execution_count": 37,
     "metadata": {},
     "output_type": "execute_result"
    }
   ],
   "source": [
    "l"
   ]
  },
  {
   "cell_type": "code",
   "execution_count": 38,
   "id": "c28a530a",
   "metadata": {},
   "outputs": [
    {
     "data": {
      "text/plain": [
       "'Wen'"
      ]
     },
     "execution_count": 38,
     "metadata": {},
     "output_type": "execute_result"
    }
   ],
   "source": [
    "l[-1]"
   ]
  },
  {
   "cell_type": "code",
   "execution_count": 39,
   "id": "e7049aa2",
   "metadata": {},
   "outputs": [
    {
     "data": {
      "text/plain": [
       "6"
      ]
     },
     "execution_count": 39,
     "metadata": {},
     "output_type": "execute_result"
    }
   ],
   "source": [
    "len(l)"
   ]
  },
  {
   "cell_type": "code",
   "execution_count": 40,
   "id": "23110e2b",
   "metadata": {},
   "outputs": [],
   "source": [
    "l.insert(2,\"Python\")"
   ]
  },
  {
   "cell_type": "code",
   "execution_count": 41,
   "id": "5ede6c4f",
   "metadata": {},
   "outputs": [
    {
     "data": {
      "text/plain": [
       "[12, 13, 'Python', 14, 15, 25, 'Wen']"
      ]
     },
     "execution_count": 41,
     "metadata": {},
     "output_type": "execute_result"
    }
   ],
   "source": [
    "l"
   ]
  },
  {
   "cell_type": "code",
   "execution_count": 42,
   "id": "2b6bfd15",
   "metadata": {},
   "outputs": [],
   "source": [
    "last_element = l.pop()"
   ]
  },
  {
   "cell_type": "code",
   "execution_count": 43,
   "id": "a7d27863",
   "metadata": {},
   "outputs": [
    {
     "data": {
      "text/plain": [
       "'Wen'"
      ]
     },
     "execution_count": 43,
     "metadata": {},
     "output_type": "execute_result"
    }
   ],
   "source": [
    "last_element"
   ]
  },
  {
   "cell_type": "code",
   "execution_count": 44,
   "id": "2c100b75",
   "metadata": {},
   "outputs": [
    {
     "data": {
      "text/plain": [
       "[12, 13, 'Python', 14, 15, 25]"
      ]
     },
     "execution_count": 44,
     "metadata": {},
     "output_type": "execute_result"
    }
   ],
   "source": [
    "l"
   ]
  },
  {
   "cell_type": "code",
   "execution_count": 45,
   "id": "8c55fe54",
   "metadata": {},
   "outputs": [
    {
     "data": {
      "text/plain": [
       "'Python'"
      ]
     },
     "execution_count": 45,
     "metadata": {},
     "output_type": "execute_result"
    }
   ],
   "source": [
    "l.pop(2)"
   ]
  },
  {
   "cell_type": "code",
   "execution_count": 46,
   "id": "b623f2bd",
   "metadata": {},
   "outputs": [
    {
     "data": {
      "text/plain": [
       "[12, 13, 14, 15, 25]"
      ]
     },
     "execution_count": 46,
     "metadata": {},
     "output_type": "execute_result"
    }
   ],
   "source": [
    "l"
   ]
  },
  {
   "cell_type": "code",
   "execution_count": 47,
   "id": "b9cd40c6",
   "metadata": {},
   "outputs": [],
   "source": [
    "l.remove(14)"
   ]
  },
  {
   "cell_type": "code",
   "execution_count": 48,
   "id": "33fdae8f",
   "metadata": {},
   "outputs": [
    {
     "data": {
      "text/plain": [
       "[12, 13, 15, 25]"
      ]
     },
     "execution_count": 48,
     "metadata": {},
     "output_type": "execute_result"
    }
   ],
   "source": [
    "l"
   ]
  },
  {
   "cell_type": "code",
   "execution_count": 49,
   "id": "65f2fe35",
   "metadata": {},
   "outputs": [],
   "source": [
    "l.insert?"
   ]
  },
  {
   "cell_type": "code",
   "execution_count": 50,
   "id": "3e8117a2",
   "metadata": {},
   "outputs": [],
   "source": [
    "l.append([\"Python\",3.8])"
   ]
  },
  {
   "cell_type": "code",
   "execution_count": 51,
   "id": "76862bb5",
   "metadata": {},
   "outputs": [
    {
     "data": {
      "text/plain": [
       "[12, 13, 15, 25, ['Python', 3.8]]"
      ]
     },
     "execution_count": 51,
     "metadata": {},
     "output_type": "execute_result"
    }
   ],
   "source": [
    "l"
   ]
  },
  {
   "cell_type": "code",
   "execution_count": 52,
   "id": "de32d775",
   "metadata": {},
   "outputs": [
    {
     "data": {
      "text/plain": [
       "5"
      ]
     },
     "execution_count": 52,
     "metadata": {},
     "output_type": "execute_result"
    }
   ],
   "source": [
    "len(l)"
   ]
  },
  {
   "cell_type": "code",
   "execution_count": 53,
   "id": "ba43240d",
   "metadata": {},
   "outputs": [
    {
     "data": {
      "text/plain": [
       "3.8"
      ]
     },
     "execution_count": 53,
     "metadata": {},
     "output_type": "execute_result"
    }
   ],
   "source": [
    "l[4][1]"
   ]
  },
  {
   "cell_type": "code",
   "execution_count": 54,
   "id": "7b387773",
   "metadata": {},
   "outputs": [
    {
     "data": {
      "text/plain": [
       "3.8"
      ]
     },
     "execution_count": 54,
     "metadata": {},
     "output_type": "execute_result"
    }
   ],
   "source": [
    "l[-1][-1]"
   ]
  },
  {
   "cell_type": "code",
   "execution_count": 77,
   "id": "a08ed111",
   "metadata": {},
   "outputs": [
    {
     "data": {
      "text/plain": [
       "1"
      ]
     },
     "execution_count": 77,
     "metadata": {},
     "output_type": "execute_result"
    }
   ],
   "source": [
    "l.count(12)"
   ]
  },
  {
   "cell_type": "code",
   "execution_count": 56,
   "id": "d25095b4",
   "metadata": {},
   "outputs": [],
   "source": [
    "list2 = [12, 13, 14, 15, 25]"
   ]
  },
  {
   "cell_type": "code",
   "execution_count": 57,
   "id": "fa89daa5",
   "metadata": {},
   "outputs": [],
   "source": [
    "list2.sort()"
   ]
  },
  {
   "cell_type": "code",
   "execution_count": 58,
   "id": "95a615fe",
   "metadata": {},
   "outputs": [
    {
     "data": {
      "text/plain": [
       "[12, 13, 14, 15, 25]"
      ]
     },
     "execution_count": 58,
     "metadata": {},
     "output_type": "execute_result"
    }
   ],
   "source": [
    "list2"
   ]
  },
  {
   "cell_type": "code",
   "execution_count": 59,
   "id": "7694aa03",
   "metadata": {},
   "outputs": [
    {
     "data": {
      "text/plain": [
       "[12, 13, 15, 25, ['Python', 3.8], 12, 13, 14, 15, 25]"
      ]
     },
     "execution_count": 59,
     "metadata": {},
     "output_type": "execute_result"
    }
   ],
   "source": [
    "l + list2"
   ]
  },
  {
   "cell_type": "code",
   "execution_count": 60,
   "id": "9f781574",
   "metadata": {},
   "outputs": [],
   "source": [
    "mixed_list = [\"f\", 15,\"python\",125,0.1]"
   ]
  },
  {
   "cell_type": "code",
   "execution_count": 61,
   "id": "574bc901",
   "metadata": {},
   "outputs": [],
   "source": [
    "mixed_list.sort(key= lambda x:str(x))"
   ]
  },
  {
   "cell_type": "code",
   "execution_count": 62,
   "id": "9efeae0d",
   "metadata": {},
   "outputs": [
    {
     "data": {
      "text/plain": [
       "[0.1, 125, 15, 'f', 'python']"
      ]
     },
     "execution_count": 62,
     "metadata": {},
     "output_type": "execute_result"
    }
   ],
   "source": [
    "mixed_list"
   ]
  },
  {
   "cell_type": "code",
   "execution_count": 63,
   "id": "38ff58f4",
   "metadata": {},
   "outputs": [
    {
     "data": {
      "text/plain": [
       "'Wen'"
      ]
     },
     "execution_count": 63,
     "metadata": {},
     "output_type": "execute_result"
    }
   ],
   "source": [
    "name"
   ]
  },
  {
   "cell_type": "code",
   "execution_count": 64,
   "id": "9a3f5aa1",
   "metadata": {},
   "outputs": [
    {
     "data": {
      "text/plain": [
       "'W'"
      ]
     },
     "execution_count": 64,
     "metadata": {},
     "output_type": "execute_result"
    }
   ],
   "source": [
    "name[0]"
   ]
  },
  {
   "cell_type": "code",
   "execution_count": 65,
   "id": "bf89c713",
   "metadata": {},
   "outputs": [
    {
     "data": {
      "text/plain": [
       "'n'"
      ]
     },
     "execution_count": 65,
     "metadata": {},
     "output_type": "execute_result"
    }
   ],
   "source": [
    "name[-1]"
   ]
  },
  {
   "cell_type": "code",
   "execution_count": 66,
   "id": "22407dec",
   "metadata": {},
   "outputs": [],
   "source": [
    "name_list = list(name)"
   ]
  },
  {
   "cell_type": "code",
   "execution_count": 67,
   "id": "2be332ae",
   "metadata": {},
   "outputs": [
    {
     "data": {
      "text/plain": [
       "['W', 'e', 'n']"
      ]
     },
     "execution_count": 67,
     "metadata": {},
     "output_type": "execute_result"
    }
   ],
   "source": [
    "name_list"
   ]
  },
  {
   "cell_type": "code",
   "execution_count": 68,
   "id": "2a8c8d2b",
   "metadata": {},
   "outputs": [
    {
     "data": {
      "text/plain": [
       "'Wen'"
      ]
     },
     "execution_count": 68,
     "metadata": {},
     "output_type": "execute_result"
    }
   ],
   "source": [
    "name.capitalize()"
   ]
  },
  {
   "cell_type": "code",
   "execution_count": 69,
   "id": "cbf195f3",
   "metadata": {},
   "outputs": [
    {
     "data": {
      "text/plain": [
       "'WEN'"
      ]
     },
     "execution_count": 69,
     "metadata": {},
     "output_type": "execute_result"
    }
   ],
   "source": [
    "name.upper()"
   ]
  },
  {
   "cell_type": "code",
   "execution_count": 70,
   "id": "ef8a75b2",
   "metadata": {},
   "outputs": [
    {
     "data": {
      "text/plain": [
       "'Wen'"
      ]
     },
     "execution_count": 70,
     "metadata": {},
     "output_type": "execute_result"
    }
   ],
   "source": [
    "name"
   ]
  },
  {
   "cell_type": "code",
   "execution_count": 71,
   "id": "6e554958",
   "metadata": {},
   "outputs": [],
   "source": [
    "surname = \"HU\""
   ]
  },
  {
   "cell_type": "code",
   "execution_count": 72,
   "id": "fe6927c2",
   "metadata": {},
   "outputs": [],
   "source": [
    "full_name = name + \" \" +surname"
   ]
  },
  {
   "cell_type": "code",
   "execution_count": 73,
   "id": "e1955f45",
   "metadata": {},
   "outputs": [
    {
     "data": {
      "text/plain": [
       "'Wen HU'"
      ]
     },
     "execution_count": 73,
     "metadata": {},
     "output_type": "execute_result"
    }
   ],
   "source": [
    "full_name"
   ]
  },
  {
   "cell_type": "code",
   "execution_count": 74,
   "id": "0459ca1c",
   "metadata": {},
   "outputs": [],
   "source": [
    "p = \"python\""
   ]
  },
  {
   "cell_type": "code",
   "execution_count": 75,
   "id": "c9a90a98",
   "metadata": {},
   "outputs": [],
   "source": [
    "version = 3"
   ]
  },
  {
   "cell_type": "code",
   "execution_count": 76,
   "id": "cc7a3e71",
   "metadata": {},
   "outputs": [
    {
     "ename": "TypeError",
     "evalue": "can only concatenate str (not \"int\") to str",
     "output_type": "error",
     "traceback": [
      "\u001b[1;31m---------------------------------------------------------------------------\u001b[0m",
      "\u001b[1;31mTypeError\u001b[0m                                 Traceback (most recent call last)",
      "\u001b[1;32m<ipython-input-76-82f94099d6c8>\u001b[0m in \u001b[0;36m<module>\u001b[1;34m\u001b[0m\n\u001b[1;32m----> 1\u001b[1;33m \u001b[0mp\u001b[0m \u001b[1;33m+\u001b[0m \u001b[0mversion\u001b[0m\u001b[1;33m\u001b[0m\u001b[1;33m\u001b[0m\u001b[0m\n\u001b[0m",
      "\u001b[1;31mTypeError\u001b[0m: can only concatenate str (not \"int\") to str"
     ]
    }
   ],
   "source": [
    "p + version"
   ]
  },
  {
   "cell_type": "code",
   "execution_count": 79,
   "id": "36d536c0",
   "metadata": {},
   "outputs": [
    {
     "data": {
      "text/plain": [
       "'python3'"
      ]
     },
     "execution_count": 79,
     "metadata": {},
     "output_type": "execute_result"
    }
   ],
   "source": [
    "p + str(version)"
   ]
  },
  {
   "cell_type": "code",
   "execution_count": 80,
   "id": "a6ccc9ed",
   "metadata": {},
   "outputs": [
    {
     "data": {
      "text/plain": [
       "'python 3'"
      ]
     },
     "execution_count": 80,
     "metadata": {},
     "output_type": "execute_result"
    }
   ],
   "source": [
    "f\"python {version}\""
   ]
  },
  {
   "cell_type": "code",
   "execution_count": 81,
   "id": "b9a461be",
   "metadata": {},
   "outputs": [
    {
     "data": {
      "text/plain": [
       "'This is the programming language i am using python-3'"
      ]
     },
     "execution_count": 81,
     "metadata": {},
     "output_type": "execute_result"
    }
   ],
   "source": [
    "f\"This is the programming language i am using {p}-{version}\""
   ]
  },
  {
   "cell_type": "code",
   "execution_count": 82,
   "id": "0600e5e3",
   "metadata": {},
   "outputs": [
    {
     "data": {
      "text/plain": [
       "'\\nThis is a W\\nAnd i like it\\n\\n'"
      ]
     },
     "execution_count": 82,
     "metadata": {},
     "output_type": "execute_result"
    }
   ],
   "source": [
    "f\"\"\"\n",
    "This is a W\n",
    "And i like it\n",
    "\n",
    "\"\"\""
   ]
  },
  {
   "cell_type": "code",
   "execution_count": 83,
   "id": "39937ca7",
   "metadata": {},
   "outputs": [
    {
     "name": "stdout",
     "output_type": "stream",
     "text": [
      "\n",
      "This is a W\n",
      "And i like it\n",
      "\n",
      "\n"
     ]
    }
   ],
   "source": [
    "print(f\"\"\"\n",
    "This is a W\n",
    "And i like it\n",
    "\n",
    "\"\"\")"
   ]
  },
  {
   "cell_type": "code",
   "execution_count": 84,
   "id": "85e0ee82",
   "metadata": {},
   "outputs": [
    {
     "name": "stdout",
     "output_type": "stream",
     "text": [
      "first line\n",
      "Second line\n"
     ]
    }
   ],
   "source": [
    "print(\"first line\\nSecond line\")"
   ]
  },
  {
   "cell_type": "code",
   "execution_count": 85,
   "id": "0bc35856",
   "metadata": {},
   "outputs": [
    {
     "data": {
      "text/plain": [
       "3"
      ]
     },
     "execution_count": 85,
     "metadata": {},
     "output_type": "execute_result"
    }
   ],
   "source": [
    "len(name)"
   ]
  },
  {
   "cell_type": "code",
   "execution_count": 86,
   "id": "7bc4edc4",
   "metadata": {},
   "outputs": [
    {
     "data": {
      "text/plain": [
       "['W', 'e', 'n']"
      ]
     },
     "execution_count": 86,
     "metadata": {},
     "output_type": "execute_result"
    }
   ],
   "source": [
    "list(name)"
   ]
  },
  {
   "cell_type": "code",
   "execution_count": 87,
   "id": "fa0576a2",
   "metadata": {},
   "outputs": [
    {
     "data": {
      "text/plain": [
       "3"
      ]
     },
     "execution_count": 87,
     "metadata": {},
     "output_type": "execute_result"
    }
   ],
   "source": [
    "len(\"a\\nb\")"
   ]
  },
  {
   "cell_type": "code",
   "execution_count": 88,
   "id": "77124671",
   "metadata": {},
   "outputs": [
    {
     "name": "stdout",
     "output_type": "stream",
     "text": [
      "a\tb\n"
     ]
    }
   ],
   "source": [
    "print(\"a\\tb\")"
   ]
  },
  {
   "cell_type": "code",
   "execution_count": 89,
   "id": "81044607",
   "metadata": {},
   "outputs": [
    {
     "data": {
      "text/plain": [
       "4"
      ]
     },
     "execution_count": 89,
     "metadata": {},
     "output_type": "execute_result"
    }
   ],
   "source": [
    "len(\"a \\tb\")"
   ]
  },
  {
   "cell_type": "markdown",
   "id": "2d2d36e2",
   "metadata": {},
   "source": [
    "Test"
   ]
  },
  {
   "cell_type": "code",
   "execution_count": 90,
   "id": "7f44a55d",
   "metadata": {},
   "outputs": [
    {
     "data": {
      "text/plain": [
       "'en'"
      ]
     },
     "execution_count": 90,
     "metadata": {},
     "output_type": "execute_result"
    }
   ],
   "source": [
    "name[1:3]"
   ]
  },
  {
   "cell_type": "code",
   "execution_count": 91,
   "id": "c72ebb68",
   "metadata": {},
   "outputs": [
    {
     "data": {
      "text/plain": [
       "'Wen'"
      ]
     },
     "execution_count": 91,
     "metadata": {},
     "output_type": "execute_result"
    }
   ],
   "source": [
    "name"
   ]
  },
  {
   "cell_type": "code",
   "execution_count": 92,
   "id": "621660d9",
   "metadata": {},
   "outputs": [
    {
     "data": {
      "text/plain": [
       "[12, 13, 15, 25, ['Python', 3.8]]"
      ]
     },
     "execution_count": 92,
     "metadata": {},
     "output_type": "execute_result"
    }
   ],
   "source": [
    "l"
   ]
  },
  {
   "cell_type": "code",
   "execution_count": 93,
   "id": "002ed486",
   "metadata": {},
   "outputs": [
    {
     "data": {
      "text/plain": [
       "[13, 15, 25, ['Python', 3.8]]"
      ]
     },
     "execution_count": 93,
     "metadata": {},
     "output_type": "execute_result"
    }
   ],
   "source": [
    "l[1:5]"
   ]
  },
  {
   "cell_type": "code",
   "execution_count": 94,
   "id": "26abba59",
   "metadata": {},
   "outputs": [
    {
     "data": {
      "text/plain": [
       "[12, 13, 15, 25, ['Python', 3.8]]"
      ]
     },
     "execution_count": 94,
     "metadata": {},
     "output_type": "execute_result"
    }
   ],
   "source": [
    "l"
   ]
  },
  {
   "cell_type": "code",
   "execution_count": 95,
   "id": "eead451e",
   "metadata": {},
   "outputs": [
    {
     "data": {
      "text/plain": [
       "1"
      ]
     },
     "execution_count": 95,
     "metadata": {},
     "output_type": "execute_result"
    }
   ],
   "source": [
    "l.index(13)"
   ]
  },
  {
   "cell_type": "code",
   "execution_count": 96,
   "id": "07b7697d",
   "metadata": {},
   "outputs": [
    {
     "data": {
      "text/plain": [
       "4"
      ]
     },
     "execution_count": 96,
     "metadata": {},
     "output_type": "execute_result"
    }
   ],
   "source": [
    "l.index(['Python', 3.8])"
   ]
  },
  {
   "cell_type": "code",
   "execution_count": 97,
   "id": "724d9443",
   "metadata": {},
   "outputs": [
    {
     "data": {
      "text/plain": [
       "'Wen HU'"
      ]
     },
     "execution_count": 97,
     "metadata": {},
     "output_type": "execute_result"
    }
   ],
   "source": [
    "full_name"
   ]
  },
  {
   "cell_type": "code",
   "execution_count": 98,
   "id": "8827ed8e",
   "metadata": {},
   "outputs": [
    {
     "data": {
      "text/plain": [
       "['Wen', 'HU']"
      ]
     },
     "execution_count": 98,
     "metadata": {},
     "output_type": "execute_result"
    }
   ],
   "source": [
    "full_name.split()"
   ]
  },
  {
   "cell_type": "code",
   "execution_count": 99,
   "id": "1d142514",
   "metadata": {},
   "outputs": [
    {
     "data": {
      "text/plain": [
       "['W', 'n HU']"
      ]
     },
     "execution_count": 99,
     "metadata": {},
     "output_type": "execute_result"
    }
   ],
   "source": [
    "full_name.split(\"e\")"
   ]
  },
  {
   "cell_type": "code",
   "execution_count": 100,
   "id": "91be30b2",
   "metadata": {},
   "outputs": [],
   "source": [
    "random_string = \"Monday,march,2021\""
   ]
  },
  {
   "cell_type": "code",
   "execution_count": 101,
   "id": "3b046f7c",
   "metadata": {},
   "outputs": [
    {
     "data": {
      "text/plain": [
       "'Monday'"
      ]
     },
     "execution_count": 101,
     "metadata": {},
     "output_type": "execute_result"
    }
   ],
   "source": [
    "random_string.split(\",\")[0]"
   ]
  },
  {
   "cell_type": "code",
   "execution_count": 102,
   "id": "fe2492b7",
   "metadata": {},
   "outputs": [],
   "source": [
    "l[0] = 20"
   ]
  },
  {
   "cell_type": "code",
   "execution_count": 103,
   "id": "f4b97914",
   "metadata": {},
   "outputs": [
    {
     "data": {
      "text/plain": [
       "[20, 13, 15, 25, ['Python', 3.8]]"
      ]
     },
     "execution_count": 103,
     "metadata": {},
     "output_type": "execute_result"
    }
   ],
   "source": [
    "l"
   ]
  },
  {
   "cell_type": "markdown",
   "id": "74c69872",
   "metadata": {},
   "source": [
    "## Dictionnary"
   ]
  },
  {
   "cell_type": "code",
   "execution_count": 104,
   "id": "0abe1a82",
   "metadata": {},
   "outputs": [],
   "source": [
    "d = dict()"
   ]
  },
  {
   "cell_type": "code",
   "execution_count": 105,
   "id": "12887fea",
   "metadata": {},
   "outputs": [
    {
     "data": {
      "text/plain": [
       "dict"
      ]
     },
     "execution_count": 105,
     "metadata": {},
     "output_type": "execute_result"
    }
   ],
   "source": [
    "type(d)"
   ]
  },
  {
   "cell_type": "code",
   "execution_count": 106,
   "id": "8e43e3c4",
   "metadata": {},
   "outputs": [
    {
     "data": {
      "text/plain": [
       "{}"
      ]
     },
     "execution_count": 106,
     "metadata": {},
     "output_type": "execute_result"
    }
   ],
   "source": [
    "d"
   ]
  },
  {
   "cell_type": "code",
   "execution_count": 107,
   "id": "dcfb6789",
   "metadata": {},
   "outputs": [],
   "source": [
    "# a dict comes with a key then the vaule that correponds to the key \n",
    "d = {\"name\": \"Wen\",\"surname\": \"HU\"}"
   ]
  },
  {
   "cell_type": "code",
   "execution_count": 108,
   "id": "38635067",
   "metadata": {},
   "outputs": [
    {
     "data": {
      "text/plain": [
       "dict"
      ]
     },
     "execution_count": 108,
     "metadata": {},
     "output_type": "execute_result"
    }
   ],
   "source": [
    "type(d)"
   ]
  },
  {
   "cell_type": "code",
   "execution_count": 109,
   "id": "6f882c8e",
   "metadata": {},
   "outputs": [
    {
     "data": {
      "text/plain": [
       "{'name': 'Wen', 'surname': 'HU'}"
      ]
     },
     "execution_count": 109,
     "metadata": {},
     "output_type": "execute_result"
    }
   ],
   "source": [
    "d"
   ]
  },
  {
   "cell_type": "code",
   "execution_count": 110,
   "id": "27445e0c",
   "metadata": {},
   "outputs": [
    {
     "data": {
      "text/plain": [
       "dict_keys(['name', 'surname'])"
      ]
     },
     "execution_count": 110,
     "metadata": {},
     "output_type": "execute_result"
    }
   ],
   "source": [
    "d.keys()"
   ]
  },
  {
   "cell_type": "code",
   "execution_count": 111,
   "id": "68495935",
   "metadata": {},
   "outputs": [
    {
     "data": {
      "text/plain": [
       "'Wen'"
      ]
     },
     "execution_count": 111,
     "metadata": {},
     "output_type": "execute_result"
    }
   ],
   "source": [
    "d[\"name\"]"
   ]
  },
  {
   "cell_type": "code",
   "execution_count": 112,
   "id": "40c9b56e",
   "metadata": {},
   "outputs": [
    {
     "data": {
      "text/plain": [
       "'HU'"
      ]
     },
     "execution_count": 112,
     "metadata": {},
     "output_type": "execute_result"
    }
   ],
   "source": [
    "d[\"surname\"]"
   ]
  },
  {
   "cell_type": "code",
   "execution_count": 113,
   "id": "28d2bd2d",
   "metadata": {},
   "outputs": [],
   "source": [
    "d[\"name\"] = \"Benoit\""
   ]
  },
  {
   "cell_type": "code",
   "execution_count": 114,
   "id": "6d92c491",
   "metadata": {},
   "outputs": [
    {
     "data": {
      "text/plain": [
       "{'name': 'Benoit', 'surname': 'HU'}"
      ]
     },
     "execution_count": 114,
     "metadata": {},
     "output_type": "execute_result"
    }
   ],
   "source": [
    "d"
   ]
  },
  {
   "cell_type": "code",
   "execution_count": 115,
   "id": "ef1682a1",
   "metadata": {},
   "outputs": [
    {
     "data": {
      "text/plain": [
       "dict_values(['Benoit', 'HU'])"
      ]
     },
     "execution_count": 115,
     "metadata": {},
     "output_type": "execute_result"
    }
   ],
   "source": [
    "d.values()"
   ]
  },
  {
   "cell_type": "code",
   "execution_count": 116,
   "id": "5aad9ef8",
   "metadata": {},
   "outputs": [
    {
     "data": {
      "text/plain": [
       "dict_items([('name', 'Benoit'), ('surname', 'HU')])"
      ]
     },
     "execution_count": 116,
     "metadata": {},
     "output_type": "execute_result"
    }
   ],
   "source": [
    "d.items()"
   ]
  },
  {
   "cell_type": "code",
   "execution_count": 117,
   "id": "43896a24",
   "metadata": {},
   "outputs": [],
   "source": [
    "additional_information = {\"Age\":30, \"City\": \"Paris\"}"
   ]
  },
  {
   "cell_type": "code",
   "execution_count": 123,
   "id": "6a1c2fcf",
   "metadata": {},
   "outputs": [],
   "source": [
    "d.update(additional_information)"
   ]
  },
  {
   "cell_type": "code",
   "execution_count": 124,
   "id": "05eb4994",
   "metadata": {},
   "outputs": [
    {
     "data": {
      "text/plain": [
       "{'name': 'Benoit',\n",
       " 'surname': 'HU',\n",
       " 'Age': 30,\n",
       " 'City': 'Paris',\n",
       " 'hobbies': ['Ph', 'Photo']}"
      ]
     },
     "execution_count": 124,
     "metadata": {},
     "output_type": "execute_result"
    }
   ],
   "source": [
    "d"
   ]
  },
  {
   "cell_type": "code",
   "execution_count": 125,
   "id": "279dd8f3",
   "metadata": {},
   "outputs": [],
   "source": [
    "d[\"hobbies\"] = [\"Ph\",\"Photo\"]"
   ]
  },
  {
   "cell_type": "code",
   "execution_count": 126,
   "id": "ae249612",
   "metadata": {},
   "outputs": [
    {
     "data": {
      "text/plain": [
       "{'name': 'Benoit',\n",
       " 'surname': 'HU',\n",
       " 'Age': 30,\n",
       " 'City': 'Paris',\n",
       " 'hobbies': ['Ph', 'Photo']}"
      ]
     },
     "execution_count": 126,
     "metadata": {},
     "output_type": "execute_result"
    }
   ],
   "source": [
    "d"
   ]
  },
  {
   "cell_type": "code",
   "execution_count": 127,
   "id": "48014ee3",
   "metadata": {},
   "outputs": [
    {
     "data": {
      "text/plain": [
       "'Ph'"
      ]
     },
     "execution_count": 127,
     "metadata": {},
     "output_type": "execute_result"
    }
   ],
   "source": [
    "d[\"hobbies\"][0]"
   ]
  },
  {
   "cell_type": "code",
   "execution_count": 128,
   "id": "41eff18a",
   "metadata": {},
   "outputs": [],
   "source": [
    "Age = d.pop(\"Age\")"
   ]
  },
  {
   "cell_type": "code",
   "execution_count": 129,
   "id": "74d22981",
   "metadata": {},
   "outputs": [
    {
     "data": {
      "text/plain": [
       "{'name': 'Benoit',\n",
       " 'surname': 'HU',\n",
       " 'City': 'Paris',\n",
       " 'hobbies': ['Ph', 'Photo']}"
      ]
     },
     "execution_count": 129,
     "metadata": {},
     "output_type": "execute_result"
    }
   ],
   "source": [
    "d"
   ]
  },
  {
   "cell_type": "code",
   "execution_count": 132,
   "id": "9fbeb7bb",
   "metadata": {},
   "outputs": [
    {
     "data": {
      "text/plain": [
       "30"
      ]
     },
     "execution_count": 132,
     "metadata": {},
     "output_type": "execute_result"
    }
   ],
   "source": [
    "Age"
   ]
  },
  {
   "cell_type": "code",
   "execution_count": 133,
   "id": "cc321f7a",
   "metadata": {},
   "outputs": [
    {
     "data": {
      "text/plain": [
       "'Benoit'"
      ]
     },
     "execution_count": 133,
     "metadata": {},
     "output_type": "execute_result"
    }
   ],
   "source": [
    "d.get(\"name\")"
   ]
  },
  {
   "cell_type": "code",
   "execution_count": 134,
   "id": "9aef0c59",
   "metadata": {},
   "outputs": [
    {
     "data": {
      "text/plain": [
       "('hobbies', ['Ph', 'Photo'])"
      ]
     },
     "execution_count": 134,
     "metadata": {},
     "output_type": "execute_result"
    }
   ],
   "source": [
    "d.popitem()"
   ]
  },
  {
   "cell_type": "code",
   "execution_count": 135,
   "id": "01dd9f27",
   "metadata": {},
   "outputs": [
    {
     "data": {
      "text/plain": [
       "{'name': 'Benoit', 'surname': 'HU', 'City': 'Paris'}"
      ]
     },
     "execution_count": 135,
     "metadata": {},
     "output_type": "execute_result"
    }
   ],
   "source": [
    "d"
   ]
  },
  {
   "cell_type": "code",
   "execution_count": 136,
   "id": "8c6ce315",
   "metadata": {},
   "outputs": [
    {
     "name": "stdout",
     "output_type": "stream",
     "text": [
      "{'name': 'Benoit', 'surname': 'HU', 'City': 'Paris'}\n"
     ]
    }
   ],
   "source": [
    "print(d)"
   ]
  },
  {
   "cell_type": "code",
   "execution_count": 137,
   "id": "fb1811d5",
   "metadata": {},
   "outputs": [],
   "source": [
    "d[45] =list(range(5))"
   ]
  },
  {
   "cell_type": "code",
   "execution_count": 138,
   "id": "069fd89d",
   "metadata": {},
   "outputs": [
    {
     "data": {
      "text/plain": [
       "{'name': 'Benoit', 'surname': 'HU', 'City': 'Paris', 45: [0, 1, 2, 3, 4]}"
      ]
     },
     "execution_count": 138,
     "metadata": {},
     "output_type": "execute_result"
    }
   ],
   "source": [
    "d"
   ]
  },
  {
   "cell_type": "markdown",
   "id": "aae093ec",
   "metadata": {},
   "source": [
    "##Tuple: the content can not be changed"
   ]
  },
  {
   "cell_type": "code",
   "execution_count": 139,
   "id": "3f28d8b4",
   "metadata": {},
   "outputs": [],
   "source": [
    "t = tuple()"
   ]
  },
  {
   "cell_type": "code",
   "execution_count": 140,
   "id": "32043d03",
   "metadata": {},
   "outputs": [],
   "source": [
    "t = (\"4\",\"5\")"
   ]
  },
  {
   "cell_type": "code",
   "execution_count": 141,
   "id": "c6e50521",
   "metadata": {},
   "outputs": [
    {
     "data": {
      "text/plain": [
       "tuple"
      ]
     },
     "execution_count": 141,
     "metadata": {},
     "output_type": "execute_result"
    }
   ],
   "source": [
    "type(t)"
   ]
  },
  {
   "cell_type": "code",
   "execution_count": 142,
   "id": "1f758d6c",
   "metadata": {},
   "outputs": [
    {
     "data": {
      "text/plain": [
       "'4'"
      ]
     },
     "execution_count": 142,
     "metadata": {},
     "output_type": "execute_result"
    }
   ],
   "source": [
    "t[0]"
   ]
  },
  {
   "cell_type": "code",
   "execution_count": 143,
   "id": "8c2899a9",
   "metadata": {},
   "outputs": [
    {
     "data": {
      "text/plain": [
       "'5'"
      ]
     },
     "execution_count": 143,
     "metadata": {},
     "output_type": "execute_result"
    }
   ],
   "source": [
    "t[1]"
   ]
  },
  {
   "cell_type": "code",
   "execution_count": 144,
   "id": "dc57130b",
   "metadata": {},
   "outputs": [
    {
     "ename": "TypeError",
     "evalue": "'tuple' object does not support item assignment",
     "output_type": "error",
     "traceback": [
      "\u001b[1;31m---------------------------------------------------------------------------\u001b[0m",
      "\u001b[1;31mTypeError\u001b[0m                                 Traceback (most recent call last)",
      "\u001b[1;32m<ipython-input-144-b3a7b255819a>\u001b[0m in \u001b[0;36m<module>\u001b[1;34m\u001b[0m\n\u001b[1;32m----> 1\u001b[1;33m \u001b[0mt\u001b[0m\u001b[1;33m[\u001b[0m\u001b[1;36m0\u001b[0m\u001b[1;33m]\u001b[0m \u001b[1;33m=\u001b[0m \u001b[1;34m\"8\"\u001b[0m\u001b[1;33m\u001b[0m\u001b[1;33m\u001b[0m\u001b[0m\n\u001b[0m",
      "\u001b[1;31mTypeError\u001b[0m: 'tuple' object does not support item assignment"
     ]
    }
   ],
   "source": [
    "t[0] = \"8\""
   ]
  },
  {
   "cell_type": "code",
   "execution_count": 145,
   "id": "556165d7",
   "metadata": {},
   "outputs": [
    {
     "ename": "AttributeError",
     "evalue": "'tuple' object has no attribute 'append'",
     "output_type": "error",
     "traceback": [
      "\u001b[1;31m---------------------------------------------------------------------------\u001b[0m",
      "\u001b[1;31mAttributeError\u001b[0m                            Traceback (most recent call last)",
      "\u001b[1;32m<ipython-input-145-058c5512b9a4>\u001b[0m in \u001b[0;36m<module>\u001b[1;34m\u001b[0m\n\u001b[1;32m----> 1\u001b[1;33m \u001b[0mt\u001b[0m\u001b[1;33m.\u001b[0m\u001b[0mappend\u001b[0m\u001b[1;33m(\u001b[0m\u001b[1;34m\"4\"\u001b[0m\u001b[1;33m)\u001b[0m \u001b[1;31m# used when we do do not want the content to be changed\u001b[0m\u001b[1;33m\u001b[0m\u001b[1;33m\u001b[0m\u001b[0m\n\u001b[0m",
      "\u001b[1;31mAttributeError\u001b[0m: 'tuple' object has no attribute 'append'"
     ]
    }
   ],
   "source": [
    "t.append(\"4\") # used when we do do not want the content to be changed"
   ]
  },
  {
   "cell_type": "code",
   "execution_count": 146,
   "id": "d9aa7c69",
   "metadata": {},
   "outputs": [
    {
     "data": {
      "text/plain": [
       "2"
      ]
     },
     "execution_count": 146,
     "metadata": {},
     "output_type": "execute_result"
    }
   ],
   "source": [
    "len(t)"
   ]
  },
  {
   "cell_type": "code",
   "execution_count": 147,
   "id": "fcc7e595",
   "metadata": {},
   "outputs": [],
   "source": [
    "mixed_tuple = ([1,2,3],\"String\",{\"key\":\"value\"})"
   ]
  },
  {
   "cell_type": "code",
   "execution_count": 148,
   "id": "9c08977b",
   "metadata": {},
   "outputs": [
    {
     "data": {
      "text/plain": [
       "([1, 2, 3], 'String', {'key': 'value'})"
      ]
     },
     "execution_count": 148,
     "metadata": {},
     "output_type": "execute_result"
    }
   ],
   "source": [
    "mixed_tuple"
   ]
  },
  {
   "cell_type": "markdown",
   "id": "3279e0b6",
   "metadata": {},
   "source": [
    "## Set"
   ]
  },
  {
   "cell_type": "code",
   "execution_count": 149,
   "id": "dd242536",
   "metadata": {},
   "outputs": [],
   "source": [
    "s = set()"
   ]
  },
  {
   "cell_type": "code",
   "execution_count": 150,
   "id": "baacd18f",
   "metadata": {},
   "outputs": [
    {
     "data": {
      "text/plain": [
       "set"
      ]
     },
     "execution_count": 150,
     "metadata": {},
     "output_type": "execute_result"
    }
   ],
   "source": [
    "type(s)"
   ]
  },
  {
   "cell_type": "code",
   "execution_count": 151,
   "id": "b8e03f55",
   "metadata": {},
   "outputs": [],
   "source": [
    "s = {1,2,3,4} # only value not key "
   ]
  },
  {
   "cell_type": "code",
   "execution_count": 152,
   "id": "30ca28f2",
   "metadata": {},
   "outputs": [
    {
     "data": {
      "text/plain": [
       "{1, 2, 3, 4}"
      ]
     },
     "execution_count": 152,
     "metadata": {},
     "output_type": "execute_result"
    }
   ],
   "source": [
    "s"
   ]
  },
  {
   "cell_type": "code",
   "execution_count": 153,
   "id": "52637f89",
   "metadata": {},
   "outputs": [],
   "source": [
    "s = {1,1,1,1}"
   ]
  },
  {
   "cell_type": "code",
   "execution_count": 154,
   "id": "d5d1a779",
   "metadata": {},
   "outputs": [
    {
     "data": {
      "text/plain": [
       "{1}"
      ]
     },
     "execution_count": 154,
     "metadata": {},
     "output_type": "execute_result"
    }
   ],
   "source": [
    "s"
   ]
  },
  {
   "cell_type": "code",
   "execution_count": 155,
   "id": "bdb1f101",
   "metadata": {},
   "outputs": [],
   "source": [
    "list_2 = [1,2,2,3,3,4]"
   ]
  },
  {
   "cell_type": "code",
   "execution_count": 156,
   "id": "9cd183a1",
   "metadata": {},
   "outputs": [
    {
     "data": {
      "text/plain": [
       "[1, 2, 2, 3, 3, 4]"
      ]
     },
     "execution_count": 156,
     "metadata": {},
     "output_type": "execute_result"
    }
   ],
   "source": [
    "list_2"
   ]
  },
  {
   "cell_type": "code",
   "execution_count": 157,
   "id": "76a0b579",
   "metadata": {},
   "outputs": [],
   "source": [
    "unique_ele = set(list_2)"
   ]
  },
  {
   "cell_type": "code",
   "execution_count": 158,
   "id": "6d6830f6",
   "metadata": {},
   "outputs": [
    {
     "data": {
      "text/plain": [
       "{1, 2, 3, 4}"
      ]
     },
     "execution_count": 158,
     "metadata": {},
     "output_type": "execute_result"
    }
   ],
   "source": [
    "unique_ele"
   ]
  },
  {
   "cell_type": "code",
   "execution_count": 159,
   "id": "2988c106",
   "metadata": {},
   "outputs": [
    {
     "data": {
      "text/plain": [
       "4"
      ]
     },
     "execution_count": 159,
     "metadata": {},
     "output_type": "execute_result"
    }
   ],
   "source": [
    "len(unique_ele) # count the unique value in the set"
   ]
  },
  {
   "cell_type": "code",
   "execution_count": 160,
   "id": "f59e4dd4",
   "metadata": {},
   "outputs": [],
   "source": [
    "s1 = { 1,2,3,4,5,6}"
   ]
  },
  {
   "cell_type": "code",
   "execution_count": 161,
   "id": "7d686951",
   "metadata": {},
   "outputs": [],
   "source": [
    "s2 = {3,4,5,6,7,8}"
   ]
  },
  {
   "cell_type": "code",
   "execution_count": 162,
   "id": "9069b5a7",
   "metadata": {},
   "outputs": [
    {
     "data": {
      "text/plain": [
       "{3, 4, 5, 6}"
      ]
     },
     "execution_count": 162,
     "metadata": {},
     "output_type": "execute_result"
    }
   ],
   "source": [
    "s1.intersection(s2)"
   ]
  },
  {
   "cell_type": "code",
   "execution_count": 163,
   "id": "5e40a982",
   "metadata": {},
   "outputs": [
    {
     "data": {
      "text/plain": [
       "{1, 2, 3, 4, 5, 6, 7, 8}"
      ]
     },
     "execution_count": 163,
     "metadata": {},
     "output_type": "execute_result"
    }
   ],
   "source": [
    "s1.union(s2)"
   ]
  },
  {
   "cell_type": "code",
   "execution_count": 164,
   "id": "2bb6f664",
   "metadata": {},
   "outputs": [
    {
     "data": {
      "text/plain": [
       "{7, 8}"
      ]
     },
     "execution_count": 164,
     "metadata": {},
     "output_type": "execute_result"
    }
   ],
   "source": [
    "s2 - s1"
   ]
  },
  {
   "cell_type": "code",
   "execution_count": 165,
   "id": "25c34f3f",
   "metadata": {},
   "outputs": [
    {
     "data": {
      "text/plain": [
       "{1, 2, 3, 4, 5, 6, 7, 8}"
      ]
     },
     "execution_count": 165,
     "metadata": {},
     "output_type": "execute_result"
    }
   ],
   "source": [
    "s1 | s2"
   ]
  },
  {
   "cell_type": "code",
   "execution_count": 166,
   "id": "a5d4c9b8",
   "metadata": {},
   "outputs": [
    {
     "data": {
      "text/plain": [
       "{3, 4, 5, 6}"
      ]
     },
     "execution_count": 166,
     "metadata": {},
     "output_type": "execute_result"
    }
   ],
   "source": [
    "s1 & s2"
   ]
  },
  {
   "cell_type": "code",
   "execution_count": 167,
   "id": "9f7c3251",
   "metadata": {},
   "outputs": [
    {
     "data": {
      "text/plain": [
       "{1, 2, 7, 8}"
      ]
     },
     "execution_count": 167,
     "metadata": {},
     "output_type": "execute_result"
    }
   ],
   "source": [
    "s1^s2"
   ]
  },
  {
   "cell_type": "markdown",
   "id": "c84ed86c",
   "metadata": {},
   "source": [
    "## Booleans"
   ]
  },
  {
   "cell_type": "code",
   "execution_count": 168,
   "id": "bddf73a3",
   "metadata": {},
   "outputs": [
    {
     "data": {
      "text/plain": [
       "True"
      ]
     },
     "execution_count": 168,
     "metadata": {},
     "output_type": "execute_result"
    }
   ],
   "source": [
    "True"
   ]
  },
  {
   "cell_type": "code",
   "execution_count": 169,
   "id": "84b7ae4c",
   "metadata": {},
   "outputs": [
    {
     "data": {
      "text/plain": [
       "False"
      ]
     },
     "execution_count": 169,
     "metadata": {},
     "output_type": "execute_result"
    }
   ],
   "source": [
    "False"
   ]
  },
  {
   "cell_type": "code",
   "execution_count": 170,
   "id": "e855c231",
   "metadata": {},
   "outputs": [
    {
     "data": {
      "text/plain": [
       "False"
      ]
     },
     "execution_count": 170,
     "metadata": {},
     "output_type": "execute_result"
    }
   ],
   "source": [
    "True & False"
   ]
  },
  {
   "cell_type": "code",
   "execution_count": 171,
   "id": "e3882094",
   "metadata": {},
   "outputs": [
    {
     "data": {
      "text/plain": [
       "False"
      ]
     },
     "execution_count": 171,
     "metadata": {},
     "output_type": "execute_result"
    }
   ],
   "source": [
    "not True"
   ]
  },
  {
   "cell_type": "code",
   "execution_count": 172,
   "id": "3e5b2d0f",
   "metadata": {},
   "outputs": [
    {
     "data": {
      "text/plain": [
       "False"
      ]
     },
     "execution_count": 172,
     "metadata": {},
     "output_type": "execute_result"
    }
   ],
   "source": [
    "not True and not False"
   ]
  },
  {
   "cell_type": "markdown",
   "id": "17f267b5",
   "metadata": {},
   "source": [
    "## if conditions"
   ]
  },
  {
   "cell_type": "code",
   "execution_count": 173,
   "id": "cd38583b",
   "metadata": {},
   "outputs": [
    {
     "name": "stdout",
     "output_type": "stream",
     "text": [
      "i am inside the condition \n",
      "end of the script\n"
     ]
    }
   ],
   "source": [
    "if True: \n",
    "    print(\"i am inside the condition \")\n",
    "print(\"end of the script\")"
   ]
  },
  {
   "cell_type": "code",
   "execution_count": 176,
   "id": "million-breath",
   "metadata": {},
   "outputs": [
    {
     "data": {
      "text/plain": [
       "[20, 13, 15, 25, ['Python', 3.8]]"
      ]
     },
     "execution_count": 176,
     "metadata": {},
     "output_type": "execute_result"
    }
   ],
   "source": [
    "l"
   ]
  },
  {
   "cell_type": "code",
   "execution_count": 174,
   "id": "2b75b3f5",
   "metadata": {},
   "outputs": [
    {
     "data": {
      "text/plain": [
       "False"
      ]
     },
     "execution_count": 174,
     "metadata": {},
     "output_type": "execute_result"
    }
   ],
   "source": [
    "isinstance(1,int) and (l[0] > 20) \n",
    " "
   ]
  },
  {
   "cell_type": "code",
   "execution_count": 175,
   "id": "1bec62c4",
   "metadata": {},
   "outputs": [
    {
     "data": {
      "text/plain": [
       "bool"
      ]
     },
     "execution_count": 175,
     "metadata": {},
     "output_type": "execute_result"
    }
   ],
   "source": [
    "type(False)"
   ]
  },
  {
   "cell_type": "markdown",
   "id": "4d5b7521",
   "metadata": {},
   "source": [
    "## for loops"
   ]
  },
  {
   "cell_type": "code",
   "execution_count": 177,
   "id": "34ab6abe",
   "metadata": {},
   "outputs": [
    {
     "data": {
      "text/plain": [
       "[20, 13, 15, 25, ['Python', 3.8]]"
      ]
     },
     "execution_count": 177,
     "metadata": {},
     "output_type": "execute_result"
    }
   ],
   "source": [
    "l"
   ]
  },
  {
   "cell_type": "code",
   "execution_count": 178,
   "id": "640b533d",
   "metadata": {},
   "outputs": [
    {
     "name": "stdout",
     "output_type": "stream",
     "text": [
      "1\n",
      "2\n",
      "1\n",
      "2\n",
      "4\n",
      "4\n",
      "3\n",
      "6\n",
      "9\n"
     ]
    }
   ],
   "source": [
    "for i in [1,2,3]:\n",
    "    print (i)\n",
    "    print(i*2)\n",
    "    print(i**2)"
   ]
  },
  {
   "cell_type": "code",
   "execution_count": 179,
   "id": "2cac9f8c",
   "metadata": {},
   "outputs": [
    {
     "name": "stdout",
     "output_type": "stream",
     "text": [
      "0\n",
      "1\n",
      "2\n",
      "3\n",
      "4\n"
     ]
    }
   ],
   "source": [
    "for i in range(5):\n",
    "    print(i)"
   ]
  },
  {
   "cell_type": "code",
   "execution_count": 180,
   "id": "854a00aa",
   "metadata": {},
   "outputs": [
    {
     "name": "stdout",
     "output_type": "stream",
     "text": [
      "i has the value 0\n",
      " the value of the element at position 0 is 20\n",
      "the new value at the position 0 is 40\n",
      "i has the value 1\n",
      " the value of the element at position 1 is 13\n",
      "the new value at the position 1 is 26\n",
      "i has the value 2\n",
      " the value of the element at position 2 is 15\n",
      "the new value at the position 2 is 30\n"
     ]
    }
   ],
   "source": [
    "for i in range(len(l)):\n",
    "    if isinstance(l[i],int) and (l[i] >3) and (l[i] < 25):\n",
    "        print(f\"i has the value {i}\")\n",
    "        print(f\" the value of the element at position {i} is {l[i]}\")\n",
    "        l[i] = l[i]*2\n",
    "        print(f\"the new value at the position {i} is {l[i]}\")"
   ]
  },
  {
   "cell_type": "code",
   "execution_count": 181,
   "id": "c061399c",
   "metadata": {},
   "outputs": [
    {
     "data": {
      "text/plain": [
       "5"
      ]
     },
     "execution_count": 181,
     "metadata": {},
     "output_type": "execute_result"
    }
   ],
   "source": [
    "len(l)"
   ]
  },
  {
   "cell_type": "code",
   "execution_count": 182,
   "id": "6aa82a6b",
   "metadata": {},
   "outputs": [],
   "source": [
    "list_of_results_1 = []\n",
    "list_of_results_2 = []\n",
    "list_remaining_elements = []\n",
    "\n",
    "l = [20, 148, 154, 89, ['Python', 3], 14, 126, 148, 154, 89]\n",
    "for i in range(len(l)):\n",
    "    \n",
    "    if isinstance(l[i],int) and (l[i]>50):\n",
    "        list_of_results_1.append(l[i])\n",
    "        \n",
    "    elif isinstance(l[i],int) and (l[i]<=50):\n",
    "        list_of_results_2.append(l[i])\n",
    "        \n",
    "    else:\n",
    "        list_remaining_elements.append(l[i])\n"
   ]
  },
  {
   "cell_type": "code",
   "execution_count": 183,
   "id": "33cfeea2",
   "metadata": {},
   "outputs": [
    {
     "data": {
      "text/plain": [
       "[148, 154, 89, 126, 148, 154, 89]"
      ]
     },
     "execution_count": 183,
     "metadata": {},
     "output_type": "execute_result"
    }
   ],
   "source": [
    "list_of_results_1\n"
   ]
  },
  {
   "cell_type": "code",
   "execution_count": 184,
   "id": "24a1f976",
   "metadata": {},
   "outputs": [
    {
     "data": {
      "text/plain": [
       "[20, 14]"
      ]
     },
     "execution_count": 184,
     "metadata": {},
     "output_type": "execute_result"
    }
   ],
   "source": [
    "list_of_results_2"
   ]
  },
  {
   "cell_type": "code",
   "execution_count": 185,
   "id": "d56c0af7",
   "metadata": {},
   "outputs": [
    {
     "data": {
      "text/plain": [
       "[['Python', 3]]"
      ]
     },
     "execution_count": 185,
     "metadata": {},
     "output_type": "execute_result"
    }
   ],
   "source": [
    "list_remaining_elements"
   ]
  },
  {
   "cell_type": "code",
   "execution_count": null,
   "id": "3750ec53",
   "metadata": {},
   "outputs": [],
   "source": [
    "# http://pythontutor.com/visualize.html visualize"
   ]
  },
  {
   "cell_type": "code",
   "execution_count": 186,
   "id": "84677645",
   "metadata": {},
   "outputs": [
    {
     "data": {
      "text/plain": [
       "10"
      ]
     },
     "execution_count": 186,
     "metadata": {},
     "output_type": "execute_result"
    }
   ],
   "source": [
    "len(l)"
   ]
  },
  {
   "cell_type": "code",
   "execution_count": 187,
   "id": "e9d21b4a",
   "metadata": {},
   "outputs": [],
   "source": [
    "import copy "
   ]
  },
  {
   "cell_type": "code",
   "execution_count": 188,
   "id": "ed8b5465",
   "metadata": {},
   "outputs": [],
   "source": [
    "j = l"
   ]
  },
  {
   "cell_type": "code",
   "execution_count": 189,
   "id": "76de818f",
   "metadata": {},
   "outputs": [
    {
     "data": {
      "text/plain": [
       "[20, 148, 154, 89, ['Python', 3], 14, 126, 148, 154, 89]"
      ]
     },
     "execution_count": 189,
     "metadata": {},
     "output_type": "execute_result"
    }
   ],
   "source": [
    "j"
   ]
  },
  {
   "cell_type": "code",
   "execution_count": 190,
   "id": "d3f7f49e",
   "metadata": {},
   "outputs": [],
   "source": [
    "j[0] = 10"
   ]
  },
  {
   "cell_type": "code",
   "execution_count": 191,
   "id": "c25e8be8",
   "metadata": {},
   "outputs": [
    {
     "data": {
      "text/plain": [
       "[10, 148, 154, 89, ['Python', 3], 14, 126, 148, 154, 89]"
      ]
     },
     "execution_count": 191,
     "metadata": {},
     "output_type": "execute_result"
    }
   ],
   "source": [
    "l"
   ]
  },
  {
   "cell_type": "code",
   "execution_count": 192,
   "id": "5d5fe472",
   "metadata": {},
   "outputs": [
    {
     "data": {
      "text/plain": [
       "[10, 148, 154, 89, ['Python', 3], 14, 126, 148, 154, 89]"
      ]
     },
     "execution_count": 192,
     "metadata": {},
     "output_type": "execute_result"
    }
   ],
   "source": [
    "j"
   ]
  },
  {
   "cell_type": "code",
   "execution_count": 193,
   "id": "b9adcf69",
   "metadata": {},
   "outputs": [],
   "source": [
    "j[4][1] = 4"
   ]
  },
  {
   "cell_type": "code",
   "execution_count": 194,
   "id": "978584b9",
   "metadata": {},
   "outputs": [
    {
     "data": {
      "text/plain": [
       "[10, 148, 154, 89, ['Python', 4], 14, 126, 148, 154, 89]"
      ]
     },
     "execution_count": 194,
     "metadata": {},
     "output_type": "execute_result"
    }
   ],
   "source": [
    "j"
   ]
  },
  {
   "cell_type": "code",
   "execution_count": 195,
   "id": "682c8eaf",
   "metadata": {},
   "outputs": [],
   "source": [
    "j[0] = 20"
   ]
  },
  {
   "cell_type": "code",
   "execution_count": 196,
   "id": "8fa6b06e",
   "metadata": {},
   "outputs": [
    {
     "data": {
      "text/plain": [
       "[20, 148, 154, 89, ['Python', 4], 14, 126, 148, 154, 89]"
      ]
     },
     "execution_count": 196,
     "metadata": {},
     "output_type": "execute_result"
    }
   ],
   "source": [
    "j"
   ]
  },
  {
   "cell_type": "code",
   "execution_count": 197,
   "id": "531d5a2e",
   "metadata": {},
   "outputs": [],
   "source": [
    "n = copy.deepcopy(l)"
   ]
  },
  {
   "cell_type": "code",
   "execution_count": 198,
   "id": "186a63c3",
   "metadata": {},
   "outputs": [
    {
     "data": {
      "text/plain": [
       "[20, 148, 154, 89, ['Python', 4], 14, 126, 148, 154, 89]"
      ]
     },
     "execution_count": 198,
     "metadata": {},
     "output_type": "execute_result"
    }
   ],
   "source": [
    "l"
   ]
  },
  {
   "cell_type": "code",
   "execution_count": 199,
   "id": "dfc9d657",
   "metadata": {},
   "outputs": [],
   "source": [
    "l[0] = 5"
   ]
  },
  {
   "cell_type": "code",
   "execution_count": 200,
   "id": "814d9579",
   "metadata": {},
   "outputs": [
    {
     "data": {
      "text/plain": [
       "[20, 148, 154, 89, ['Python', 4], 14, 126, 148, 154, 89]"
      ]
     },
     "execution_count": 200,
     "metadata": {},
     "output_type": "execute_result"
    }
   ],
   "source": [
    "n"
   ]
  },
  {
   "cell_type": "code",
   "execution_count": 201,
   "id": "3bed2df0",
   "metadata": {},
   "outputs": [],
   "source": [
    "l[4][0] = \"java\""
   ]
  },
  {
   "cell_type": "code",
   "execution_count": 206,
   "id": "456149ca",
   "metadata": {},
   "outputs": [
    {
     "data": {
      "text/plain": [
       "[5, 148, 154, 89, ['java', 4], 14, 126, 148, 154, 89]"
      ]
     },
     "execution_count": 206,
     "metadata": {},
     "output_type": "execute_result"
    }
   ],
   "source": [
    "l"
   ]
  },
  {
   "cell_type": "code",
   "execution_count": 207,
   "id": "69708e97",
   "metadata": {},
   "outputs": [
    {
     "data": {
      "text/plain": [
       "[20, 148, 154, 89, ['Python', 4], 14, 126, 148, 154, 89]"
      ]
     },
     "execution_count": 207,
     "metadata": {},
     "output_type": "execute_result"
    }
   ],
   "source": [
    "n"
   ]
  },
  {
   "cell_type": "code",
   "execution_count": 208,
   "id": "bec858cb",
   "metadata": {},
   "outputs": [],
   "source": [
    "# while loop "
   ]
  },
  {
   "cell_type": "code",
   "execution_count": 209,
   "id": "b437be34",
   "metadata": {},
   "outputs": [],
   "source": [
    "a = 0 \n",
    "while a < 40:\n",
    "    a = a + 1"
   ]
  },
  {
   "cell_type": "code",
   "execution_count": 210,
   "id": "35b23a09",
   "metadata": {},
   "outputs": [
    {
     "data": {
      "text/plain": [
       "40"
      ]
     },
     "execution_count": 210,
     "metadata": {},
     "output_type": "execute_result"
    }
   ],
   "source": [
    "a"
   ]
  },
  {
   "cell_type": "code",
   "execution_count": 211,
   "id": "e05615c4",
   "metadata": {
    "collapsed": true
   },
   "outputs": [
    {
     "name": "stdout",
     "output_type": "stream",
     "text": [
      "0\n",
      "1\n",
      "2\n",
      "3\n",
      "4\n",
      "5\n",
      "6\n",
      "7\n",
      "8\n",
      "9\n",
      "10\n",
      "11\n",
      "12\n",
      "13\n",
      "14\n",
      "15\n",
      "16\n",
      "17\n",
      "18\n",
      "19\n",
      "20\n",
      "21\n",
      "22\n",
      "23\n",
      "24\n",
      "25\n",
      "26\n",
      "27\n",
      "28\n",
      "29\n",
      "30\n",
      "31\n",
      "32\n",
      "33\n",
      "34\n",
      "35\n",
      "36\n",
      "37\n",
      "38\n",
      "39\n",
      "40\n"
     ]
    }
   ],
   "source": [
    "for i in range(100):\n",
    "    print(i)\n",
    "    if i >= 40:\n",
    "        break"
   ]
  },
  {
   "cell_type": "code",
   "execution_count": null,
   "id": "84b0d2e2",
   "metadata": {},
   "outputs": [],
   "source": []
  }
 ],
 "metadata": {
  "kernelspec": {
   "display_name": "Python 3",
   "language": "python",
   "name": "python3"
  },
  "language_info": {
   "codemirror_mode": {
    "name": "ipython",
    "version": 3
   },
   "file_extension": ".py",
   "mimetype": "text/x-python",
   "name": "python",
   "nbconvert_exporter": "python",
   "pygments_lexer": "ipython3",
   "version": "3.7.10"
  }
 },
 "nbformat": 4,
 "nbformat_minor": 5
}
