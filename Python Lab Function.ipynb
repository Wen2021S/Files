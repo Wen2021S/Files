{
 "cells": [
  {
   "cell_type": "markdown",
   "id": "a7560bf4",
   "metadata": {},
   "source": [
    "## Function"
   ]
  },
  {
   "cell_type": "code",
   "execution_count": 1,
   "id": "8a1c961b",
   "metadata": {},
   "outputs": [],
   "source": [
    "def greetings():\n",
    "    print(\"Hello, everybody\")"
   ]
  },
  {
   "cell_type": "code",
   "execution_count": 2,
   "id": "36b14f84",
   "metadata": {},
   "outputs": [
    {
     "name": "stdout",
     "output_type": "stream",
     "text": [
      "Hello, everybody\n"
     ]
    }
   ],
   "source": [
    "greetings()"
   ]
  },
  {
   "cell_type": "code",
   "execution_count": 3,
   "id": "5135421e",
   "metadata": {},
   "outputs": [],
   "source": [
    "def personalized_greeting(name):\n",
    "    \"\"\"\n",
    "    print a personalized greeting using name\n",
    "    name : string\n",
    "    \"\"\"\n",
    "    print(f\"hello {name}\")"
   ]
  },
  {
   "cell_type": "code",
   "execution_count": 4,
   "id": "813aa08d",
   "metadata": {},
   "outputs": [
    {
     "name": "stdout",
     "output_type": "stream",
     "text": [
      "hello Wen\n"
     ]
    }
   ],
   "source": [
    "personalized_greeting(\"Wen\")"
   ]
  },
  {
   "cell_type": "code",
   "execution_count": 5,
   "id": "f4a65d01",
   "metadata": {},
   "outputs": [],
   "source": [
    "def my_sum(a:int,b:int)->int:\n",
    "    \"\"\"\n",
    "    computes the sum of 2 elements a and b\n",
    "    a : first number \n",
    "    b: second number\n",
    "    \"\"\"\n",
    "    s = None\n",
    "    if isinstance(a,int) and isinstance(b,int):\n",
    "        s = a+b\n",
    "    else:\n",
    "        print(\"integers are needed \")\n",
    "    return s"
   ]
  },
  {
   "cell_type": "code",
   "execution_count": 6,
   "id": "026d565f",
   "metadata": {},
   "outputs": [
    {
     "data": {
      "text/plain": [
       "3"
      ]
     },
     "execution_count": 6,
     "metadata": {},
     "output_type": "execute_result"
    }
   ],
   "source": [
    "my_sum(1,2)"
   ]
  },
  {
   "cell_type": "code",
   "execution_count": 7,
   "id": "cbf45ade",
   "metadata": {},
   "outputs": [
    {
     "name": "stdout",
     "output_type": "stream",
     "text": [
      "integers are needed \n"
     ]
    }
   ],
   "source": [
    "my_sum(\"a\",\"b\")"
   ]
  },
  {
   "cell_type": "code",
   "execution_count": 10,
   "id": "73842ad1",
   "metadata": {},
   "outputs": [],
   "source": [
    "l = [14,54,78,\"World\",[14,5],{\"name\":\"Bob\"}]"
   ]
  },
  {
   "cell_type": "code",
   "execution_count": 11,
   "id": "5a68763b",
   "metadata": {},
   "outputs": [],
   "source": [
    "# write a function that takes a list as a parameter and returns the sum of the list, if not return 0"
   ]
  },
  {
   "cell_type": "code",
   "execution_count": 12,
   "id": "55e7b060",
   "metadata": {},
   "outputs": [],
   "source": [
    "def compute_sum(l):\n",
    "    s = 0\n",
    "    for i in range(len(l)):\n",
    "        if isinstance(l[i],(int,float)):\n",
    "            s = s + l[i]\n",
    "    return s\n",
    "       "
   ]
  },
  {
   "cell_type": "code",
   "execution_count": 13,
   "id": "ecb56545",
   "metadata": {},
   "outputs": [
    {
     "data": {
      "text/plain": [
       "146"
      ]
     },
     "execution_count": 13,
     "metadata": {},
     "output_type": "execute_result"
    }
   ],
   "source": [
    "compute_sum(l)"
   ]
  },
  {
   "cell_type": "code",
   "execution_count": 14,
   "id": "b1157c64",
   "metadata": {},
   "outputs": [],
   "source": [
    "def addition(l):\n",
    "    return sum([i for i in l if isinstance(i,(int,float))])"
   ]
  },
  {
   "cell_type": "code",
   "execution_count": 15,
   "id": "8a7ab44c",
   "metadata": {},
   "outputs": [
    {
     "data": {
      "text/plain": [
       "146"
      ]
     },
     "execution_count": 15,
     "metadata": {},
     "output_type": "execute_result"
    }
   ],
   "source": [
    "addition(l)"
   ]
  },
  {
   "cell_type": "code",
   "execution_count": 16,
   "id": "cdee22ea",
   "metadata": {},
   "outputs": [
    {
     "data": {
      "text/plain": [
       "146"
      ]
     },
     "execution_count": 16,
     "metadata": {},
     "output_type": "execute_result"
    }
   ],
   "source": [
    "sum([i for i in l if isinstance(i,(int,float))])"
   ]
  },
  {
   "cell_type": "code",
   "execution_count": 17,
   "id": "ecd518f4",
   "metadata": {},
   "outputs": [],
   "source": [
    "# check if a string is a palandrom"
   ]
  },
  {
   "cell_type": "code",
   "execution_count": 19,
   "id": "e85e7e18",
   "metadata": {},
   "outputs": [
    {
     "name": "stdout",
     "output_type": "stream",
     "text": [
      "The string is a palindrome.\n"
     ]
    }
   ],
   "source": [
    "my_str = 'aIbohPhoBiA'\n",
    "my_str = my_str.casefold()\n",
    "rev_str = reversed(my_str)\n",
    "if list(my_str) == list(rev_str):\n",
    "   print(\"The string is a palindrome.\")\n",
    "else:\n",
    "   print(\"The string is not a palindrome.\")"
   ]
  },
  {
   "cell_type": "code",
   "execution_count": 20,
   "id": "34ca0ff5",
   "metadata": {},
   "outputs": [],
   "source": [
    "my_str = 'aIbohPhoBiA'\n",
    "my_str = my_str.casefold()"
   ]
  },
  {
   "cell_type": "code",
   "execution_count": 21,
   "id": "33abe287",
   "metadata": {},
   "outputs": [
    {
     "data": {
      "text/plain": [
       "'aibohphobia'"
      ]
     },
     "execution_count": 21,
     "metadata": {},
     "output_type": "execute_result"
    }
   ],
   "source": [
    "my_str"
   ]
  },
  {
   "cell_type": "code",
   "execution_count": 23,
   "id": "complex-punch",
   "metadata": {},
   "outputs": [
    {
     "data": {
      "text/plain": [
       "['a', 'i', 'b', 'o', 'h', 'p', 'h', 'o', 'b', 'i', 'a']"
      ]
     },
     "execution_count": 23,
     "metadata": {},
     "output_type": "execute_result"
    }
   ],
   "source": [
    "rev_str = reversed(my_str)\n",
    "list(rev_str)"
   ]
  },
  {
   "cell_type": "code",
   "execution_count": null,
   "id": "worse-pepper",
   "metadata": {},
   "outputs": [],
   "source": []
  }
 ],
 "metadata": {
  "kernelspec": {
   "display_name": "Python 3",
   "language": "python",
   "name": "python3"
  },
  "language_info": {
   "codemirror_mode": {
    "name": "ipython",
    "version": 3
   },
   "file_extension": ".py",
   "mimetype": "text/x-python",
   "name": "python",
   "nbconvert_exporter": "python",
   "pygments_lexer": "ipython3",
   "version": "3.7.10"
  }
 },
 "nbformat": 4,
 "nbformat_minor": 5
}
